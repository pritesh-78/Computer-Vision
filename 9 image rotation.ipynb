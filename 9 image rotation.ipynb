{
 "cells": [
  {
   "cell_type": "code",
   "execution_count": 1,
   "id": "optimum-department",
   "metadata": {},
   "outputs": [],
   "source": [
    "import cv2\n",
    "import numpy as np"
   ]
  },
  {
   "cell_type": "code",
   "execution_count": 2,
   "id": "dedicated-ratio",
   "metadata": {},
   "outputs": [],
   "source": [
    "img=cv2.imread('photo/cat.jpeg')\n",
    "hight,width=img.shape[:2]\n"
   ]
  },
  {
   "cell_type": "code",
   "execution_count": 3,
   "id": "committed-belief",
   "metadata": {},
   "outputs": [],
   "source": [
    "rotation_matrix=cv2.getRotationMatrix2D((width/2,hight/2),90,.8)"
   ]
  },
  {
   "cell_type": "code",
   "execution_count": 4,
   "id": "exclusive-reverse",
   "metadata": {},
   "outputs": [],
   "source": [
    "rotated_image=cv2.warpAffine(img,rotation_matrix,(width,hight))"
   ]
  },
  {
   "cell_type": "code",
   "execution_count": null,
   "id": "swiss-defense",
   "metadata": {},
   "outputs": [],
   "source": [
    "cv2.imshow('rotated image',rotated_image)\n",
    "cv2.imshow('original image',img)\n",
    "cv2.waitKey(0)\n",
    "cv2.destroyAllWindows()"
   ]
  },
  {
   "cell_type": "code",
   "execution_count": null,
   "id": "ongoing-sapphire",
   "metadata": {},
   "outputs": [],
   "source": []
  },
  {
   "cell_type": "code",
   "execution_count": null,
   "id": "blind-begin",
   "metadata": {},
   "outputs": [],
   "source": []
  }
 ],
 "metadata": {
  "kernelspec": {
   "display_name": "Python 3",
   "language": "python",
   "name": "python3"
  },
  "language_info": {
   "codemirror_mode": {
    "name": "ipython",
    "version": 3
   },
   "file_extension": ".py",
   "mimetype": "text/x-python",
   "name": "python",
   "nbconvert_exporter": "python",
   "pygments_lexer": "ipython3",
   "version": "3.9.0"
  }
 },
 "nbformat": 4,
 "nbformat_minor": 5
}
