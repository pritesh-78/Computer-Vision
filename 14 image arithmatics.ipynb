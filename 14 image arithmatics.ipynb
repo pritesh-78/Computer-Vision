{
 "cells": [
  {
   "cell_type": "code",
   "execution_count": 2,
   "id": "unauthorized-numbers",
   "metadata": {},
   "outputs": [],
   "source": [
    "import cv2\n",
    "import numpy as np"
   ]
  },
  {
   "cell_type": "code",
   "execution_count": 3,
   "id": "apparent-patient",
   "metadata": {},
   "outputs": [],
   "source": [
    "img=cv2.imread('photo/cat.jpeg')"
   ]
  },
  {
   "cell_type": "code",
   "execution_count": 4,
   "id": "accurate-breast",
   "metadata": {},
   "outputs": [
    {
     "data": {
      "text/plain": [
       "-1"
      ]
     },
     "execution_count": 4,
     "metadata": {},
     "output_type": "execute_result"
    }
   ],
   "source": [
    "cv2.imshow('original',img)\n",
    "cv2.waitKey(0)"
   ]
  },
  {
   "cell_type": "code",
   "execution_count": 10,
   "id": "selected-harmony",
   "metadata": {},
   "outputs": [],
   "source": [
    "M=np.ones(img.shape,dtype='uint8')*150"
   ]
  },
  {
   "cell_type": "code",
   "execution_count": 15,
   "id": "functioning-variance",
   "metadata": {},
   "outputs": [],
   "source": [
    "added=cv2.add(img,M)\n",
    "cv2.imshow('Added',added)\n",
    "cv2.waitKey(0)\n",
    "cv2.destroyAllWindows()"
   ]
  },
  {
   "cell_type": "code",
   "execution_count": 13,
   "id": "certified-virgin",
   "metadata": {},
   "outputs": [],
   "source": [
    "subtracted=cv2.subtract(img,M)\n",
    "cv2.imshow('Subtracted',subtracted)\n",
    "cv2.waitKey(0)\n",
    "cv2.destroyAllWindows()"
   ]
  },
  {
   "cell_type": "code",
   "execution_count": 16,
   "id": "tracked-carry",
   "metadata": {},
   "outputs": [],
   "source": [
    "mul=cv2.multiply(img,M)\n",
    "cv2.imshow('multiplicated',mul)\n",
    "cv2.waitKey(0)\n",
    "cv2.destroyAllWindows()"
   ]
  },
  {
   "cell_type": "code",
   "execution_count": 22,
   "id": "funny-spine",
   "metadata": {},
   "outputs": [],
   "source": [
    "M1=np.zeros(img.shape,dtype='uint8')+150"
   ]
  },
  {
   "cell_type": "code",
   "execution_count": 23,
   "id": "middle-showcase",
   "metadata": {},
   "outputs": [],
   "source": [
    "added=cv2.add(img,M1)\n",
    "cv2.imshow('Added',added)\n",
    "subtracted=cv2.subtract(img,M1)\n",
    "cv2.imshow('Subtracted',subtracted)\n",
    "mul=cv2.multiply(img,M1)\n",
    "cv2.imshow('multiplicated',mul)\n",
    "cv2.waitKey(0)\n",
    "cv2.destroyAllWindows()"
   ]
  },
  {
   "cell_type": "code",
   "execution_count": 24,
   "id": "nutritional-budget",
   "metadata": {},
   "outputs": [
    {
     "data": {
      "text/plain": [
       "array([[[150, 150, 150],\n",
       "        [150, 150, 150],\n",
       "        [150, 150, 150],\n",
       "        ...,\n",
       "        [150, 150, 150],\n",
       "        [150, 150, 150],\n",
       "        [150, 150, 150]],\n",
       "\n",
       "       [[150, 150, 150],\n",
       "        [150, 150, 150],\n",
       "        [150, 150, 150],\n",
       "        ...,\n",
       "        [150, 150, 150],\n",
       "        [150, 150, 150],\n",
       "        [150, 150, 150]],\n",
       "\n",
       "       [[150, 150, 150],\n",
       "        [150, 150, 150],\n",
       "        [150, 150, 150],\n",
       "        ...,\n",
       "        [150, 150, 150],\n",
       "        [150, 150, 150],\n",
       "        [150, 150, 150]],\n",
       "\n",
       "       ...,\n",
       "\n",
       "       [[150, 150, 150],\n",
       "        [150, 150, 150],\n",
       "        [150, 150, 150],\n",
       "        ...,\n",
       "        [150, 150, 150],\n",
       "        [150, 150, 150],\n",
       "        [150, 150, 150]],\n",
       "\n",
       "       [[150, 150, 150],\n",
       "        [150, 150, 150],\n",
       "        [150, 150, 150],\n",
       "        ...,\n",
       "        [150, 150, 150],\n",
       "        [150, 150, 150],\n",
       "        [150, 150, 150]],\n",
       "\n",
       "       [[150, 150, 150],\n",
       "        [150, 150, 150],\n",
       "        [150, 150, 150],\n",
       "        ...,\n",
       "        [150, 150, 150],\n",
       "        [150, 150, 150],\n",
       "        [150, 150, 150]]], dtype=uint8)"
      ]
     },
     "execution_count": 24,
     "metadata": {},
     "output_type": "execute_result"
    }
   ],
   "source": [
    "M1"
   ]
  },
  {
   "cell_type": "code",
   "execution_count": 21,
   "id": "undefined-genius",
   "metadata": {},
   "outputs": [
    {
     "data": {
      "text/plain": [
       "array([[[150, 150, 150],\n",
       "        [150, 150, 150],\n",
       "        [150, 150, 150],\n",
       "        ...,\n",
       "        [150, 150, 150],\n",
       "        [150, 150, 150],\n",
       "        [150, 150, 150]],\n",
       "\n",
       "       [[150, 150, 150],\n",
       "        [150, 150, 150],\n",
       "        [150, 150, 150],\n",
       "        ...,\n",
       "        [150, 150, 150],\n",
       "        [150, 150, 150],\n",
       "        [150, 150, 150]],\n",
       "\n",
       "       [[150, 150, 150],\n",
       "        [150, 150, 150],\n",
       "        [150, 150, 150],\n",
       "        ...,\n",
       "        [150, 150, 150],\n",
       "        [150, 150, 150],\n",
       "        [150, 150, 150]],\n",
       "\n",
       "       ...,\n",
       "\n",
       "       [[150, 150, 150],\n",
       "        [150, 150, 150],\n",
       "        [150, 150, 150],\n",
       "        ...,\n",
       "        [150, 150, 150],\n",
       "        [150, 150, 150],\n",
       "        [150, 150, 150]],\n",
       "\n",
       "       [[150, 150, 150],\n",
       "        [150, 150, 150],\n",
       "        [150, 150, 150],\n",
       "        ...,\n",
       "        [150, 150, 150],\n",
       "        [150, 150, 150],\n",
       "        [150, 150, 150]],\n",
       "\n",
       "       [[150, 150, 150],\n",
       "        [150, 150, 150],\n",
       "        [150, 150, 150],\n",
       "        ...,\n",
       "        [150, 150, 150],\n",
       "        [150, 150, 150],\n",
       "        [150, 150, 150]]], dtype=uint8)"
      ]
     },
     "execution_count": 21,
     "metadata": {},
     "output_type": "execute_result"
    }
   ],
   "source": [
    "M"
   ]
  },
  {
   "cell_type": "code",
   "execution_count": null,
   "id": "structural-planner",
   "metadata": {},
   "outputs": [],
   "source": []
  }
 ],
 "metadata": {
  "kernelspec": {
   "display_name": "Python 3",
   "language": "python",
   "name": "python3"
  },
  "language_info": {
   "codemirror_mode": {
    "name": "ipython",
    "version": 3
   },
   "file_extension": ".py",
   "mimetype": "text/x-python",
   "name": "python",
   "nbconvert_exporter": "python",
   "pygments_lexer": "ipython3",
   "version": "3.9.0"
  }
 },
 "nbformat": 4,
 "nbformat_minor": 5
}
