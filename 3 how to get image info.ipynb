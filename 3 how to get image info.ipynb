{
 "cells": [
  {
   "cell_type": "code",
   "execution_count": 1,
   "id": "acute-genetics",
   "metadata": {},
   "outputs": [],
   "source": [
    "import cv2"
   ]
  },
  {
   "cell_type": "code",
   "execution_count": 4,
   "id": "designing-wright",
   "metadata": {},
   "outputs": [],
   "source": [
    "img=cv2.imread('photo/cat.jpeg')\n",
    "cv2.imshow('output image',img)\n",
    "\n",
    "cv2.waitKey(0)\n",
    "cv2.destroyAllWindows()"
   ]
  },
  {
   "cell_type": "code",
   "execution_count": 7,
   "id": "received-banner",
   "metadata": {},
   "outputs": [
    {
     "data": {
      "text/plain": [
       "(194, 260, 3)"
      ]
     },
     "execution_count": 7,
     "metadata": {},
     "output_type": "execute_result"
    }
   ],
   "source": [
    "img.shape"
   ]
  },
  {
   "cell_type": "code",
   "execution_count": 12,
   "id": "wireless-kidney",
   "metadata": {},
   "outputs": [
    {
     "name": "stdout",
     "output_type": "stream",
     "text": [
      "height pixel values : 194\n",
      "width pixel values : 260\n",
      "layers : 3\n"
     ]
    }
   ],
   "source": [
    "print(\"height pixel values :\",img.shape[0])\n",
    "print(\"width pixel values :\",img.shape[1])\n",
    "print(\"layers :\",img.shape[2])"
   ]
  },
  {
   "cell_type": "code",
   "execution_count": null,
   "id": "better-dynamics",
   "metadata": {},
   "outputs": [],
   "source": []
  }
 ],
 "metadata": {
  "kernelspec": {
   "display_name": "Python 3",
   "language": "python",
   "name": "python3"
  },
  "language_info": {
   "codemirror_mode": {
    "name": "ipython",
    "version": 3
   },
   "file_extension": ".py",
   "mimetype": "text/x-python",
   "name": "python",
   "nbconvert_exporter": "python",
   "pygments_lexer": "ipython3",
   "version": "3.9.0"
  }
 },
 "nbformat": 4,
 "nbformat_minor": 5
}
