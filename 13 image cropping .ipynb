{
 "cells": [
  {
   "cell_type": "code",
   "execution_count": 1,
   "id": "affecting-girlfriend",
   "metadata": {},
   "outputs": [],
   "source": [
    "import cv2 \n",
    "import numpy as np"
   ]
  },
  {
   "cell_type": "code",
   "execution_count": 2,
   "id": "rotary-program",
   "metadata": {},
   "outputs": [],
   "source": [
    "img=cv2.imread('photo/cat.jpeg')"
   ]
  },
  {
   "cell_type": "code",
   "execution_count": 3,
   "id": "lyric-andrew",
   "metadata": {},
   "outputs": [],
   "source": [
    "hight,width=img.shape[:2]"
   ]
  },
  {
   "cell_type": "code",
   "execution_count": 4,
   "id": "european-logging",
   "metadata": {},
   "outputs": [],
   "source": [
    "start_row,start_col=int(hight*.25),int(width*.25)\n",
    "end_row,end_col=int(hight*.75),int(width*.75)"
   ]
  },
  {
   "cell_type": "code",
   "execution_count": 5,
   "id": "fossil-newton",
   "metadata": {},
   "outputs": [],
   "source": [
    "cropped=img[start_row:end_row,start_col:end_col]"
   ]
  },
  {
   "cell_type": "code",
   "execution_count": null,
   "id": "unlimited-advocacy",
   "metadata": {},
   "outputs": [],
   "source": [
    "cv2.imshow('cropped',cropped)\n",
    "cv2.imshow('original',img)\n",
    "cv2.waitKey(0)\n",
    "cv2.destroyAllWindows()"
   ]
  },
  {
   "cell_type": "code",
   "execution_count": null,
   "id": "superior-execution",
   "metadata": {},
   "outputs": [],
   "source": []
  }
 ],
 "metadata": {
  "kernelspec": {
   "display_name": "Python 3 (ipykernel)",
   "language": "python",
   "name": "python3"
  },
  "language_info": {
   "codemirror_mode": {
    "name": "ipython",
    "version": 3
   },
   "file_extension": ".py",
   "mimetype": "text/x-python",
   "name": "python",
   "nbconvert_exporter": "python",
   "pygments_lexer": "ipython3",
   "version": "3.12.2"
  }
 },
 "nbformat": 4,
 "nbformat_minor": 5
}
