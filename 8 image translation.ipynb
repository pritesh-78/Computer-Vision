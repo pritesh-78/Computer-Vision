{
 "cells": [
  {
   "cell_type": "code",
   "execution_count": 2,
   "id": "expanded-genre",
   "metadata": {},
   "outputs": [],
   "source": [
    "import cv2\n",
    "import numpy as np"
   ]
  },
  {
   "cell_type": "code",
   "execution_count": 3,
   "id": "guilty-intervention",
   "metadata": {},
   "outputs": [],
   "source": [
    "img=cv2.imread('photo/cat.jpeg')\n"
   ]
  },
  {
   "cell_type": "code",
   "execution_count": 5,
   "id": "alert-float",
   "metadata": {},
   "outputs": [],
   "source": [
    "height,width=img.shape[:2]"
   ]
  },
  {
   "cell_type": "code",
   "execution_count": 6,
   "id": "enhanced-transportation",
   "metadata": {},
   "outputs": [
    {
     "data": {
      "text/plain": [
       "194"
      ]
     },
     "execution_count": 6,
     "metadata": {},
     "output_type": "execute_result"
    }
   ],
   "source": [
    "height"
   ]
  },
  {
   "cell_type": "code",
   "execution_count": 7,
   "id": "charitable-mattress",
   "metadata": {},
   "outputs": [
    {
     "data": {
      "text/plain": [
       "260"
      ]
     },
     "execution_count": 7,
     "metadata": {},
     "output_type": "execute_result"
    }
   ],
   "source": [
    "width"
   ]
  },
  {
   "cell_type": "code",
   "execution_count": 8,
   "id": "beautiful-bumper",
   "metadata": {},
   "outputs": [
    {
     "name": "stdout",
     "output_type": "stream",
     "text": [
      "48.5\n",
      "65.0\n"
     ]
    }
   ],
   "source": [
    "quarter_height,quarter_width=height/4,width/4\n",
    "print(quarter_height)\n",
    "print(quarter_width)"
   ]
  },
  {
   "cell_type": "code",
   "execution_count": 10,
   "id": "adopted-volunteer",
   "metadata": {},
   "outputs": [
    {
     "name": "stdout",
     "output_type": "stream",
     "text": [
      "[[ 1.   0.  65. ]\n",
      " [ 0.   1.  48.5]]\n"
     ]
    }
   ],
   "source": [
    "T=np.float32([[1,0,quarter_width],\n",
    "             [0,1,quarter_height]])\n",
    "print(T)"
   ]
  },
  {
   "cell_type": "code",
   "execution_count": 12,
   "id": "noticed-graduation",
   "metadata": {},
   "outputs": [],
   "source": [
    "img_translation=cv2.warpAffine(img,T,(width,height))\n",
    "cv2.imshow('original image',img)\n",
    "cv2.imshow('translation',img_translation)\n",
    "cv2.waitKey(0)\n",
    "cv2.destroyAllWindows()"
   ]
  },
  {
   "cell_type": "code",
   "execution_count": null,
   "id": "bearing-notion",
   "metadata": {},
   "outputs": [],
   "source": []
  }
 ],
 "metadata": {
  "kernelspec": {
   "display_name": "Python 3",
   "language": "python",
   "name": "python3"
  },
  "language_info": {
   "codemirror_mode": {
    "name": "ipython",
    "version": 3
   },
   "file_extension": ".py",
   "mimetype": "text/x-python",
   "name": "python",
   "nbconvert_exporter": "python",
   "pygments_lexer": "ipython3",
   "version": "3.9.0"
  }
 },
 "nbformat": 4,
 "nbformat_minor": 5
}
